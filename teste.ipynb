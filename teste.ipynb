{
 "cells": [
  {
   "cell_type": "code",
   "execution_count": null,
   "outputs": [],
   "source": [
    "pip install opencv-python"
   ],
   "metadata": {
    "collapsed": false
   },
   "id": "a818d3358ffe503a"
  },
  {
   "cell_type": "code",
   "execution_count": null,
   "outputs": [],
   "source": [
    "pip install progress"
   ],
   "metadata": {
    "collapsed": false
   },
   "id": "2db083cb92179c97"
  },
  {
   "cell_type": "code",
   "execution_count": 6,
   "id": "initial_id",
   "metadata": {
    "collapsed": true,
    "ExecuteTime": {
     "end_time": "2023-12-09T16:58:31.246239500Z",
     "start_time": "2023-12-09T16:58:29.784425200Z"
    }
   },
   "outputs": [],
   "source": [
    "import os\n",
    "import cv2\n",
    "import numpy as np\n",
    "from sklearn import preprocessing\n",
    "from progress.bar import Bar\n",
    "import time"
   ]
  },
  {
   "cell_type": "code",
   "execution_count": null,
   "outputs": [],
   "source": [
    "def main():\n",
    "    mainStartTime = time.time()\n",
    "    trainImagePath = './images_split/train/'\n",
    "    testImagePath = './images_split/test/'\n",
    "    trainFeaturePath = './features_labels/train/'\n",
    "    testFeaturePath = './features_labels/test/'\n",
    "    print(f'[INFO] ========= TRAINING IMAGES ========= ')\n",
    "    trainImages, trainLabels = getData(trainImagePath)\n",
    "    trainEncodedLabels, encoderClasses = encodeLabels(trainLabels)\n",
    "    trainFeatures = extractGrayHistogramFeatures(trainImages)\n",
    "    saveData(trainFeaturePath,trainEncodedLabels,trainFeatures,encoderClasses)\n",
    "    print(f'[INFO] =========== TEST IMAGES =========== ')\n",
    "    testImages, testLabels = getData(testImagePath)\n",
    "    testEncodedLabels, encoderClasses = encodeLabels(testLabels)\n",
    "    testFeatures = extractGrayHistogramFeatures(testImages)\n",
    "    saveData(testFeaturePath,testEncodedLabels,testFeatures,encoderClasses)\n",
    "    elapsedTime = round(time.time() - mainStartTime,2)\n",
    "    print(f'[INFO] Code execution time: {elapsedTime}s')"
   ],
   "metadata": {
    "collapsed": false
   },
   "id": "7464e441a57ea43b"
  },
  {
   "cell_type": "code",
   "execution_count": null,
   "outputs": [],
   "source": [
    "def getData(path):\n",
    "    images = []\n",
    "    labels = []\n",
    "    if os.path.exists(path):\n",
    "        for dirpath , dirnames , filenames in os.walk(path):   \n",
    "            if (len(filenames)>0): #it's inside a folder with files\n",
    "                folder_name = os.path.basename(dirpath)\n",
    "                bar = Bar(f'[INFO] Getting images and labels from {folder_name}',max=len(filenames),suffix='%(index)d/%(max)d Duration:%(elapsed)ds')            \n",
    "                for index, file in enumerate(filenames):\n",
    "                    label = folder_name\n",
    "                    labels.append(label)\n",
    "                    full_path = os.path.join(dirpath,file)\n",
    "                    image = cv2.imread(full_path)\n",
    "                    images.append(image)\n",
    "                    bar.next()\n",
    "                bar.finish()\n",
    "        #print(labels)\n",
    "        return images, np.array(labels,dtype=object)"
   ],
   "metadata": {
    "collapsed": false
   },
   "id": "277e5b230f65dd7"
  },
  {
   "cell_type": "code",
   "execution_count": null,
   "outputs": [],
   "source": [
    "def extractGrayHistogramFeatures(images):\n",
    "    bar = Bar('[INFO] Extrating Gray histogram features...',max=len(images),suffix='%(index)d/%(max)d  Duration:%(elapsed)ds')\n",
    "    featuresList = []\n",
    "    for image in images:\n",
    "        if (np.ndim(image) > 2): # > 2 = colorida\n",
    "            image = cv2.cvtColor(image,cv2.COLOR_BGR2GRAY)\n",
    "        bins = [256]\n",
    "        hist  = cv2.calcHist([image], [0], None, bins, [0, 256])\n",
    "        cv2.normalize(hist, hist)\n",
    "        featuresList.append(hist.flatten())\n",
    "        bar.next()\n",
    "    bar.finish()\n",
    "    return np.array(featuresList,dtype=object)"
   ],
   "metadata": {
    "collapsed": false
   },
   "id": "c815996f3429114f"
  },
  {
   "cell_type": "code",
   "execution_count": null,
   "outputs": [],
   "source": [
    "def encodeLabels(labels):\n",
    "    startTime = time.time()\n",
    "    print(f'[INFO] Encoding labels to numerical labels')\n",
    "    encoder = preprocessing.LabelEncoder()\n",
    "    encoded_labels = encoder.fit_transform(labels)\n",
    "    elapsedTime = round(time.time() - startTime,2)\n",
    "    print(f'[INFO] Encoding done in {elapsedTime}s')\n",
    "    return np.array(encoded_labels,dtype=object), encoder.classes_"
   ],
   "metadata": {
    "collapsed": false
   },
   "id": "8236d72c5f730e28"
  },
  {
   "cell_type": "code",
   "execution_count": null,
   "outputs": [],
   "source": [
    "def saveData(path,labels,features,encoderClasses):\n",
    "    startTime = time.time()\n",
    "    print(f'[INFO] Saving data')\n",
    "    #the name of the arrays will be used as filenames\n",
    "    #f'{labels=}' gets both variable name and its corresponding values.\n",
    "    #split('=')[0] gets the variable name from f'{labels=}'\n",
    "    label_filename = f'{labels=}'.split('=')[0]+'.csv'\n",
    "    feature_filename = f'{features=}'.split('=')[0]+'.csv'\n",
    "    encoder_filename = f'{encoderClasses=}'.split('=')[0]+'.csv'\n",
    "    np.savetxt(path+label_filename,labels, delimiter=',',fmt='%i')\n",
    "    np.savetxt(path+feature_filename,features, delimiter=',') #float does not need format\n",
    "    np.savetxt(path+encoder_filename,encoderClasses, delimiter=',',fmt='%s') \n",
    "    elapsedTime = round(time.time() - startTime,2)\n",
    "    print(f'[INFO] Saving done in {elapsedTime}s')"
   ],
   "metadata": {
    "collapsed": false
   },
   "id": "7b6ff314b808a630"
  },
  {
   "cell_type": "code",
   "execution_count": null,
   "outputs": [],
   "source": [
    "if __name__ == \"__main__\":\n",
    "    main()"
   ],
   "metadata": {
    "collapsed": false
   },
   "id": "e8f2c5bda5594eaa"
  }
 ],
 "metadata": {
  "kernelspec": {
   "display_name": "Python 3",
   "language": "python",
   "name": "python3"
  },
  "language_info": {
   "codemirror_mode": {
    "name": "ipython",
    "version": 2
   },
   "file_extension": ".py",
   "mimetype": "text/x-python",
   "name": "python",
   "nbconvert_exporter": "python",
   "pygments_lexer": "ipython2",
   "version": "2.7.6"
  }
 },
 "nbformat": 4,
 "nbformat_minor": 5
}
